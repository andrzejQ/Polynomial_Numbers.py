{
 "cells": [
  {
   "cell_type": "code",
   "execution_count": 1,
   "metadata": {
    "code_folding": []
   },
   "outputs": [],
   "source": [
    "# -*- coding: utf-8 -*-\n",
    "# Codefolding extension is used here."
   ]
  },
  {
   "cell_type": "code",
   "execution_count": 2,
   "metadata": {
    "code_folding": []
   },
   "outputs": [
    {
     "data": {
      "text/html": [
       "<style> \n",
       "    img[alt$=' L45'] {float: left; width: 45%;} /* alt ends with ' L45' */\n",
       "    img[alt$=' R40'] {float: right; width: 40%;}\n",
       "</style>"
      ],
      "text/plain": [
       "<IPython.core.display.HTML object>"
      ]
     },
     "metadata": {},
     "output_type": "display_data"
    }
   ],
   "source": [
    "%%html\n",
    "<style> \n",
    "    img[alt$=' L45'] {float: left; width: 45%;} /* alt ends with ' L45' */\n",
    "    img[alt$=' R40'] {float: right; width: 40%;}\n",
    "</style>"
   ]
  },
  {
   "cell_type": "markdown",
   "metadata": {},
   "source": [
    "\n",
    "# Polynomial Number Method\n",
    "\n",
    "![Signals R40](PN.py/img/Signals_.png)\n",
    "A polynomial number is generalised number. Digits of this number are elements of an arbitrary field, for example real numbers. The polynomial numbers in the transient analysis play similar role as complex numbers in AC analysis - these numbers allow to compute a solution of differential equations in the algebraic manner. \n",
    "\n",
    "\n",
    "The polynomial number can correspond one to one to a function $f(t)$ or to a sequence $\\{f_k\\}$. \n",
    "![Polynomial Numbers L45](PN.py/img/PN-RN_.png)\n"
   ]
  },
  {
   "cell_type": "markdown",
   "metadata": {},
   "source": [
    "As well PN operations as PN functions have easy computer implementation and are analogous to the floating-point arithmetic."
   ]
  },
  {
   "cell_type": "markdown",
   "metadata": {
    "code_folding": [],
    "scrolled": false
   },
   "source": [
    "    ________ R _________   ______________ PN ___________________\n",
    "    \n",
    "      a =       5.3 2    |    a =           (~-3.2~,-5.0~2.1~)\n",
    "      b =         2.1    |    b =                (~-0.1~,1.0~)\n",
    "      * -------------    |    * ------------------------------\n",
    "                5 3 2    |                  (~-3.2~,-5.0~2.1~)\n",
    "            1 0 6 4      |           (~0.32~,0.5~-0.21~)\n",
    "      a * b =========    |    a * b ==========================\n",
    "            1 1.1 7 2    |            (~0.32~,-2.7~-5.21~2.1~)\n"
   ]
  },
  {
   "cell_type": "markdown",
   "metadata": {},
   "source": [
    "The polynomial number method refers to the computer implementation of some operational calculi. The main advantage of the PN method is unified numerical representation of transient signals; therefore, formulas and algorithms used for AC signals can be efficiently applied in the transient domain. \n",
    "![PN calulator L45](PN.py/img/PN-OpCalc_.png)"
   ]
  },
  {
   "cell_type": "markdown",
   "metadata": {},
   "source": [
    "## Jupyter notebooks\n",
    "* [02.PN Laplace and Z transforms.ipynb](PN.py/02.PN Laplace and Z transforms.ipynb)\n",
    "* [03.PN digits type.ipynb](PN.py/03.PN digits type.ipynb)\n",
    "* [04.PN generalized time domain functions.ipynb](PN.py/04.PN generalized time domain functions.ipynb)\n",
    "* [05.PN - Black box.ipynb](PN.py/05.PN - Black box.ipynb)"
   ]
  },
  {
   "cell_type": "markdown",
   "metadata": {},
   "source": [
    "You will find more in http://www.pei.prz.edu.pl/~kubaszek/index_en.html"
   ]
  }
 ],
 "metadata": {
  "kernelspec": {
   "display_name": "Python 3",
   "language": "python",
   "name": "python3"
  },
  "language_info": {
   "codemirror_mode": {
    "name": "ipython",
    "version": 3
   },
   "file_extension": ".py",
   "mimetype": "text/x-python",
   "name": "python",
   "nbconvert_exporter": "python",
   "pygments_lexer": "ipython3",
   "version": "3.6.4"
  },
  "varInspector": {
   "cols": {
    "lenName": 16,
    "lenType": 16,
    "lenVar": 40
   },
   "kernels_config": {
    "python": {
     "delete_cmd_postfix": "",
     "delete_cmd_prefix": "del ",
     "library": "var_list.py",
     "varRefreshCmd": "print(var_dic_list())"
    },
    "r": {
     "delete_cmd_postfix": ") ",
     "delete_cmd_prefix": "rm(",
     "library": "var_list.r",
     "varRefreshCmd": "cat(var_dic_list()) "
    }
   },
   "types_to_exclude": [
    "module",
    "function",
    "builtin_function_or_method",
    "instance",
    "_Feature"
   ],
   "window_display": false
  }
 },
 "nbformat": 4,
 "nbformat_minor": 1
}
