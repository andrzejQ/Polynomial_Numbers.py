{
 "cells": [
  {
   "cell_type": "markdown",
   "metadata": {},
   "source": [
    "\n",
    "# Polynomial Number Method\n",
    "\n",
    "<img src=\"PN.py/img/Signals_.png\" align=\"right\" width=\"44%\" alt=\"Signals\">  \n",
    "A polynomial number is generalised number. Digits of this number are elements of an arbitrary field, for example real numbers. The polynomial numbers in the transient analysis play similar role as complex numbers in AC analysis - these numbers allow to compute a solution of differential equations in the algebraic manner. \n",
    "\n",
    "\n",
    "The polynomial number can correspond one to one to a function $f(t)$ or to a sequence $\\{f_k\\}$. \n",
    "<img src=\"PN.py/img/PN-RN_.png\"  align=\"left\" width=\"45%\" alt=\"Polynomial Numbers\">\n"
   ]
  },
  {
   "cell_type": "markdown",
   "metadata": {},
   "source": [
    "As well PN operations as PN functions have easy computer implementation and are analogous to the floating-point arithmetic:    \n",
    "[01. PN arithmetic example (jupyter notebook)](PN.py/01.PN.ipynb) _ and _ [Python class PNlib](https://github.com/andrzejQ/Polynomial_Numbers.py)"
   ]
  },
  {
   "cell_type": "markdown",
   "metadata": {
    "code_folding": [],
    "scrolled": false
   },
   "source": [
    "    ________ R _________   ______________ PN ___________________\n",
    "    \n",
    "      a =       5.3 2    |    a =           (~-3.2~,-5.0~2.1~)\n",
    "      b =         2.1    |    b =                (~-0.1~,1.0~)\n",
    "      * -------------    |    * ------------------------------\n",
    "                5 3 2    |                  (~-3.2~,-5.0~2.1~)\n",
    "            1 0 6 4      |            (~0.32~,0.5~-0.21~)\n",
    "      a * b =========    |    a * b ==========================\n",
    "            1 1.1 7 2    |            (~0.32~,-2.7~-5.21~2.1~)\n"
   ]
  },
  {
   "cell_type": "markdown",
   "metadata": {},
   "source": [
    "<img src=\"PN.py/img/PN-OpCalc_.png\" align=\"right\" width=\"55%\" alt=\"PN calulator\">\n",
    "The polynomial number method refers to the computer implementation of some operational calculi. The main advantage of the PN method is unified numerical representation of transient signals; therefore, formulas and algorithms used for AC signals can be efficiently applied in the transient domain. \n",
    "\n",
    "#### Jupyter notebooks\n",
    "* [02. PN Laplace and Z transforms](https://github.com/andrzejQ/Polynomial_Numbers.py/blob/master/PN.py/02.PN Laplace and Z transforms.ipynb)\n",
    "* [03. PN digits type](https://github.com/andrzejQ/Polynomial_Numbers.py/blob/master/PN.py/03.PN digits type.ipynb)\n",
    "* [04. PN generalized time domain functions](https://github.com/andrzejQ/Polynomial_Numbers.py/blob/master/PN.py/04.PN generalized time domain functions.ipynb)\n",
    "* [05. PN - Black box](https://github.com/andrzejQ/Polynomial_Numbers.py/blob/master/PN.py/05.PN - Black box.ipynb)\n",
    "\n",
    "- - - -\n",
    "\n",
    "You will find more in [https://pei.prz.edu.pl/~kubaszek](https://pei.prz.edu.pl/~kubaszek/index_en.html)"
   ]
  }
 ],
 "metadata": {
  "kernelspec": {
   "display_name": "Python 3",
   "language": "python",
   "name": "python3"
  },
  "language_info": {
   "codemirror_mode": {
    "name": "ipython",
    "version": 3
   },
   "file_extension": ".py",
   "mimetype": "text/x-python",
   "name": "python",
   "nbconvert_exporter": "python",
   "pygments_lexer": "ipython3",
   "version": "3.7.0"
  },
  "latex_metadata": {
   "affiliation": "Rzeszow University of Technology",
   "author": "Andrzej Kubaszek",
   "title": "Polynomial Numbers"
  },
  "varInspector": {
   "cols": {
    "lenName": 16,
    "lenType": 16,
    "lenVar": 40
   },
   "kernels_config": {
    "python": {
     "delete_cmd_postfix": "",
     "delete_cmd_prefix": "del ",
     "library": "var_list.py",
     "varRefreshCmd": "print(var_dic_list())"
    },
    "r": {
     "delete_cmd_postfix": ") ",
     "delete_cmd_prefix": "rm(",
     "library": "var_list.r",
     "varRefreshCmd": "cat(var_dic_list()) "
    }
   },
   "types_to_exclude": [
    "module",
    "function",
    "builtin_function_or_method",
    "instance",
    "_Feature"
   ],
   "window_display": false
  }
 },
 "nbformat": 4,
 "nbformat_minor": 1
}
