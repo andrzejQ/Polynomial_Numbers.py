{
 "cells": [
  {
   "cell_type": "code",
   "execution_count": 8,
   "metadata": {
    "code_folding": [],
    "hide_input": false
   },
   "outputs": [],
   "source": [
    "# place folder `PNlib` near to *.ipynb\n",
    "from PNlib import PolyNumConf\n",
    "PolyNumConf.max_N=32 # PN significant digits number (restart jupyter kernel on change)"
   ]
  },
  {
   "cell_type": "code",
   "execution_count": 9,
   "metadata": {
    "code_folding": [],
    "hide_input": false
   },
   "outputs": [],
   "source": [
    "from PNlib.PolyNum import PolyNum"
   ]
  },
  {
   "cell_type": "markdown",
   "metadata": {},
   "source": [
    "# Discrete representations of generalized time domain functions\n",
    "\n",
    "## Laplace transform\n",
    "\n",
    "The functions of continuous time defined for $t \\geq 0$, can be expressed in **Mikusinski's operational calculus** in form of functions of **Heaviside's operator** $ p = \\cfrac{1}{\\int_0^t} $ where $X(p)$ denote $\\color{magenta}{\\text{Laplace transform}}$ formulas: \n",
    "\n",
    "$$\n",
    "\\{ x (t) \\} = \\color{magenta}{X(p)} \\color{brown}{ \\cdot p \\cdot \\{1\\} }\n",
    "$$\n",
    "\n",
    "$ \\{1\\} $ denotes function, with value $ 1 $ for all $ t \\geq 0 $.\n",
    "\n",
    "For example $ \\{ 200\\ sin(t) \\} = \\color{magenta}{200\\ \\cfrac{2}{p^2 + 4}} \\color{brown}{  \\cdot  p \\cdot \\{1\\} }$.\n",
    "\n",
    "##  Z-transform\n",
    "\n",
    "Z-transform corresponds to $ \\{ x (t) \\} $ is determined by series of samples in discrete time $ t_k = k\\ h $, where $ k = 0, 1,\\dots$ and $ h $ is the sampling period:\n",
    "\n",
    "$$\n",
    "\\underline{x} = (^\\sim x_0\\!^\\sim, x_1\\!^\\sim x_2\\!^\\sim \\dots ^\\sim) = \\left.(x_0 \\,z^0 + x_1 \\,z^{-1} + x_2 \\,z^{-2} + \\dots)\\right|_{z\\,=\\,(^\\sim 1 ^\\sim 0 ^\\sim)}\\\\\n",
    "$$\n",
    "\n",
    "Replacing continuous time function $\\{1\\}$ by sequence of samples $\n",
    "(^\\sim 0.5^\\sim, 1^\\sim 1^\\sim1^\\sim \\dots^\\sim)\n",
    "$\n",
    "and replacing Heaviside operator $ p $ utilizing algorithm of numerical integration\n",
    "$$\n",
    "\\underline{p} = \\frac{2}{h} \\left.\\frac{1 - z^{-1}}{1 + z^{-1}}\\right|_{z = (^\\sim 1 ^\\sim 0 ^\\sim)} \n",
    "= \\frac{2}{h} \\frac{(^\\sim 1 ^\\sim , -1 ^\\sim)}{(^\\sim 1 ^\\sim , 1 ^\\sim)}\n",
    "= \\frac{1}{h}\\ (^\\sim 2^\\sim, -4^\\sim 4^\\sim -4^\\sim \\dots^\\sim) \\\\\n",
    "$$\n",
    "we obtain expression for approximate sequence of samples of function $\\{ x(t) \\}$:\n",
    "\n",
    "\n",
    "$$\n",
    "\\\\\n",
    "\\underline{x} = \\color{magenta}{X (\\underline{p})} \\color{brown}{  \\cdot \\underline{p} \\cdot (^\\sim0.5^\\sim, 1^\\sim1^\\sim1^\\sim \\dots ^\\sim) }\n",
    "$$"
   ]
  },
  {
   "cell_type": "markdown",
   "metadata": {},
   "source": [
    "This way we get discrete samples of abstract functions, like derivative of non-smooth function, like  \n",
    "$\n",
    "\\{x_a(t)\\} = \\{ \\cfrac{\\mathrm{d}}{\\mathrm{d}t} \\delta(t) \\} = \\color{brown}{ p \\cdot \\{1\\} \\cdot \\ } \\color{magenta}{p} \n",
    "$, \n",
    "where Laplace transform  $ \\color{magenta}{X(p) = p} $ or function containing negative delay, like  \n",
    "$\n",
    "\\{x_b(t)\\} = \\color{brown}{ p \\cdot \\{1\\} \\cdot \\ } \\color{magenta}{ \\cfrac{1}{p^2 + p + 4}\\ \\exp(-(-0.1)\\sqrt{p^2 +1}) } \n",
    "$ \n",
    "(see\n",
    "[Mikusinski's remarks about negative delay operator](http://www.pei.prz.edu.pl/~kubaszek/smacd06/JM_OperCalc.html))."
   ]
  },
  {
   "cell_type": "code",
   "execution_count": 10,
   "metadata": {
    "code_folding": []
   },
   "outputs": [],
   "source": [
    "# %matplotlib inline\n",
    "# import matplotlib.pyplot as plt\n",
    "\n",
    "# plt.plot() #(Codefolding extension)\n",
    "# plt.rc('lines', linewidth=1)\n",
    "# plt.rcParams[\"figure.figsize\"] = [11,4]\n",
    "#plt.rcParams[\"figure.dpi\"] = 200 \n",
    "#plt.rc('text', usetex=True)"
   ]
  },
  {
   "cell_type": "code",
   "execution_count": 11,
   "metadata": {},
   "outputs": [],
   "source": [
    "# Z-transform (live example):\n",
    "f_1111 = 0.5 * PolyNum('const:(~1~,2~2~2~2~...~)')\n",
    "p_tr = PolyNum('const:(~2~,-4~4~-4~4~...~)') # 2*(~1~-1~)/(~1~1~)"
   ]
  },
  {
   "cell_type": "markdown",
   "metadata": {},
   "source": [
    "### Digital samples of derivative of the step function:\n",
    "\n",
    "$\n",
    "\\{x_a(t)\\}  = \\{ \\cfrac{\\mathrm{d}}{\\mathrm{d}t} \\delta(t) \\} = \\color{brown}{ p \\cdot \\{1\\} \\cdot \\ } \\color{magenta}{p} \n",
    "$"
   ]
  },
  {
   "cell_type": "code",
   "execution_count": 12,
   "metadata": {},
   "outputs": [],
   "source": [
    "h_a = [0.4,0.8] # diffrent sampling periods for graphs\n",
    "x_a = []\n",
    "for h in h_a:  # diffrent sampling periods\n",
    "    p = 1/h * p_tr\n",
    "    x_a += [ p * f_1111 * p ]"
   ]
  },
  {
   "cell_type": "code",
   "execution_count": 13,
   "metadata": {
    "code_folding": [],
    "hide_input": false,
    "scrolled": true
   },
   "outputs": [
    {
     "data": {
      "text/html": [
       "<iframe id=\"igraph\" scrolling=\"no\" style=\"border:none;\" seamless=\"seamless\" src=\"https://plot.ly/~andrzejQ/12.embed\" height=\"525px\" width=\"100%\"></iframe>"
      ],
      "text/plain": [
       "<plotly.tools.PlotlyDisplay object>"
      ]
     },
     "execution_count": 13,
     "metadata": {},
     "output_type": "execute_result"
    }
   ],
   "source": [
    "# plot(x_a) --- \"04y.PN generalized time domain functions.ipynb\"  ---- plotly version ----\n",
    "import plotly.plotly as py\n",
    "from plotly.graph_objs import Scatter, Data\n",
    "#help(Scatter) # Run `<scatter-object>.help('attribute')` on any of the above\n",
    "traces = [\n",
    "    Scatter(y=list(x_a[0]), x0=0, dx=h_a[0]),\n",
    "    Scatter(y=list(x_a[1]), x0=0, dx=h_a[1])\n",
    "]\n",
    "data = Data(traces)\n",
    "\n",
    "py.iplot(data, filename = 'x_a__h')\n"
   ]
  },
  {
   "cell_type": "code",
   "execution_count": 14,
   "metadata": {
    "code_folding": [],
    "hide_input": false,
    "scrolled": true
   },
   "outputs": [
    {
     "ename": "NameError",
     "evalue": "name 'plt' is not defined",
     "output_type": "error",
     "traceback": [
      "\u001b[1;31m---------------------------------------------------------------------------\u001b[0m",
      "\u001b[1;31mNameError\u001b[0m                                 Traceback (most recent call last)",
      "\u001b[1;32m<ipython-input-14-858cb8f65289>\u001b[0m in \u001b[0;36m<module>\u001b[1;34m()\u001b[0m\n\u001b[0;32m      1\u001b[0m \u001b[0mplotStyle\u001b[0m \u001b[1;33m=\u001b[0m \u001b[1;33m[\u001b[0m\u001b[1;34m'r--o'\u001b[0m\u001b[1;33m,\u001b[0m\u001b[1;34m'b-D'\u001b[0m\u001b[1;33m]\u001b[0m\u001b[1;33m\u001b[0m\u001b[0m\n\u001b[1;32m----> 2\u001b[1;33m \u001b[0mfig\u001b[0m \u001b[1;33m=\u001b[0m \u001b[0mplt\u001b[0m\u001b[1;33m.\u001b[0m\u001b[0mfigure\u001b[0m\u001b[1;33m(\u001b[0m\u001b[1;33m)\u001b[0m\u001b[1;33m\u001b[0m\u001b[0m\n\u001b[0m\u001b[0;32m      3\u001b[0m \u001b[1;32mfor\u001b[0m \u001b[0mi\u001b[0m \u001b[1;32min\u001b[0m \u001b[0mrange\u001b[0m\u001b[1;33m(\u001b[0m\u001b[0mlen\u001b[0m\u001b[1;33m(\u001b[0m\u001b[0mx_a\u001b[0m\u001b[1;33m)\u001b[0m\u001b[1;33m)\u001b[0m\u001b[1;33m:\u001b[0m\u001b[1;33m\u001b[0m\u001b[0m\n\u001b[0;32m      4\u001b[0m     \u001b[0mplt\u001b[0m\u001b[1;33m.\u001b[0m\u001b[0mplot\u001b[0m\u001b[1;33m(\u001b[0m\u001b[0mt_a\u001b[0m\u001b[1;33m[\u001b[0m\u001b[0mi\u001b[0m\u001b[1;33m]\u001b[0m\u001b[1;33m,\u001b[0m\u001b[0mx_a\u001b[0m\u001b[1;33m[\u001b[0m\u001b[0mi\u001b[0m\u001b[1;33m]\u001b[0m\u001b[1;33m,\u001b[0m\u001b[0mplotStyle\u001b[0m\u001b[1;33m[\u001b[0m\u001b[0mi\u001b[0m\u001b[1;33m]\u001b[0m\u001b[1;33m,\u001b[0m \u001b[0mlabel\u001b[0m\u001b[1;33m=\u001b[0m\u001b[1;34m'h='\u001b[0m\u001b[1;33m+\u001b[0m\u001b[0mstr\u001b[0m\u001b[1;33m(\u001b[0m\u001b[0mt_a\u001b[0m\u001b[1;33m[\u001b[0m\u001b[0mi\u001b[0m\u001b[1;33m]\u001b[0m\u001b[1;33m[\u001b[0m\u001b[1;36m1\u001b[0m\u001b[1;33m]\u001b[0m\u001b[1;33m)\u001b[0m\u001b[1;33m)\u001b[0m\u001b[1;33m\u001b[0m\u001b[0m\n\u001b[0;32m      5\u001b[0m \u001b[0mplt\u001b[0m\u001b[1;33m.\u001b[0m\u001b[0mgrid\u001b[0m\u001b[1;33m(\u001b[0m\u001b[0mb\u001b[0m\u001b[1;33m=\u001b[0m\u001b[1;32mTrue\u001b[0m\u001b[1;33m)\u001b[0m\u001b[1;33m\u001b[0m\u001b[0m\n",
      "\u001b[1;31mNameError\u001b[0m: name 'plt' is not defined"
     ]
    }
   ],
   "source": [
    "plotStyle = ['r--o','b-D']\n",
    "fig = plt.figure()\n",
    "for i in range(len(x_a)):\n",
    "    plt.plot(t_a[i],x_a[i],plotStyle[i], label='h='+str(t_a[i][1]))\n",
    "plt.grid(b=True)\n",
    "plt.legend()\n",
    "plt.text(15,12,\"{$ d\\ \\delta(t)\\ /\\ dt $}\", fontsize=14);\n",
    "#plt.show();\n",
    "unique_url = py.plot_mpl(fig, filename=\"i-plotly version of an mpl figure\")"
   ]
  },
  {
   "cell_type": "markdown",
   "metadata": {},
   "source": [
    "- - - -"
   ]
  },
  {
   "cell_type": "markdown",
   "metadata": {},
   "source": [
    "### Digital samples of signal containing negative delay operator:\n",
    "\n",
    "$\n",
    "\\{x_b(t)\\} = \\color{brown}{ p \\cdot \\{1\\} \\cdot \\ } \\color{magenta}{ \\cfrac{1}{p^2 + p + 4}\\ \\exp(-(-T_0)\\sqrt{p^2 +1}) } \n",
    "$\n",
    "\n",
    "$ \\color{magenta}{ T_0 = 0.04 } $"
   ]
  },
  {
   "cell_type": "code",
   "execution_count": null,
   "metadata": {},
   "outputs": [],
   "source": [
    "x_b, t_b = [], []\n",
    "T_0 = 0.04\n",
    "for h in [0.15,0.2]:  # diffrent sampling periods\n",
    "    t_b += [ [k*h for k in range(len(p_tr))] ]\n",
    "    p = 1/h * p_tr\n",
    "    x_b += [ p * f_1111 * 1 / (p**2 + p + 4) * ( -(-T_0) * ( (p**2 +1).sqrt() ) ).exp() ]"
   ]
  },
  {
   "cell_type": "code",
   "execution_count": null,
   "metadata": {
    "code_folding": [],
    "hide_input": false,
    "scrolled": true
   },
   "outputs": [],
   "source": [
    "# plt.plot(x_b) \n",
    "plt.ylim((-0.5, 0.5))\n",
    "for i in range(len(x_b)):\n",
    "    plt.plot(t_b[i],x_b[i],plotStyle[i], label='h='+str(t_b[i][1]))\n",
    "plt.grid(b=True)\n",
    "plt.legend()\n",
    "plt.show();"
   ]
  },
  {
   "cell_type": "markdown",
   "metadata": {},
   "source": [
    "Neutralizing negative delay operator we get regular function for $t \\geq 0$\n",
    " (see the last part of [Mikusinski's remarks about negative delay operator](http://www.pei.prz.edu.pl/~kubaszek/smacd06/JM_OperCalc.html)):"
   ]
  },
  {
   "cell_type": "markdown",
   "metadata": {},
   "source": [
    "$ \\{x_b(t)\\} = \\color{brown}{ p \\cdot \\{1\\} \\cdot \\ } \\color{magenta}{ \\cfrac{1}{p^2 + p + 4}\\ \\exp(-(-T_0)\\sqrt{p^2 +1}) \\cdot \\exp(-T_0\\, p)} $\n",
    "\n",
    "$ \\color{magenta}{ T_0 = 0.04 } $"
   ]
  },
  {
   "cell_type": "code",
   "execution_count": null,
   "metadata": {},
   "outputs": [],
   "source": [
    "x_b0, t_b = [], []\n",
    "for h in [0.15,0.2]:  # diffrent sampling periods\n",
    "    t_b += [ [k*h for k in range(len(p_tr))] ]\n",
    "    p = 1/h * p_tr\n",
    "    x_b0 += [ p * f_1111 * 1 / (p**2 + p + 4) * ( -(-T_0) * ( (p**2 +1).sqrt() ) ).exp() * (-T_0*p).exp() ]"
   ]
  },
  {
   "cell_type": "code",
   "execution_count": null,
   "metadata": {
    "code_folding": [],
    "hide_input": false,
    "scrolled": true
   },
   "outputs": [],
   "source": [
    "# plt.plot(x_b0) \n",
    "plt.ylim((-0.5, 0.5))\n",
    "for i in range(len(x_b)):\n",
    "    plt.plot(t_b[i],x_b0[i],plotStyle[i], label='h='+str(t_b[i][1]))\n",
    "plt.grid(b=True)\n",
    "plt.legend()\n",
    "plt.show();"
   ]
  },
  {
   "cell_type": "markdown",
   "metadata": {},
   "source": [
    "- - - -\n",
    "[<<<... 03. PN digits type ...](03.PN digits type.ipynb) _ | _ [... 05. PN - Black box ...>>>](05.PN - Black box.ipynb)"
   ]
  }
 ],
 "metadata": {
  "kernelspec": {
   "display_name": "Python [default]",
   "language": "python",
   "name": "python3"
  },
  "language_info": {
   "codemirror_mode": {
    "name": "ipython",
    "version": 3
   },
   "file_extension": ".py",
   "mimetype": "text/x-python",
   "name": "python",
   "nbconvert_exporter": "python",
   "pygments_lexer": "ipython3",
   "version": "3.6.5"
  },
  "latex_metadata": {
   "affiliation": "Rzeszow University of Technology",
   "author": "Andrzej Kubaszek",
   "title": "Polynomial Numbers"
  },
  "varInspector": {
   "cols": {
    "lenName": 16,
    "lenType": 16,
    "lenVar": 40
   },
   "kernels_config": {
    "python": {
     "delete_cmd_postfix": "",
     "delete_cmd_prefix": "del ",
     "library": "var_list.py",
     "varRefreshCmd": "print(var_dic_list())"
    },
    "r": {
     "delete_cmd_postfix": ") ",
     "delete_cmd_prefix": "rm(",
     "library": "var_list.r",
     "varRefreshCmd": "cat(var_dic_list()) "
    }
   },
   "types_to_exclude": [
    "module",
    "function",
    "builtin_function_or_method",
    "instance",
    "_Feature"
   ],
   "window_display": false
  }
 },
 "nbformat": 4,
 "nbformat_minor": 2
}
