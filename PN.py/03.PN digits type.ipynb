{
 "cells": [
  {
   "cell_type": "markdown",
   "metadata": {},
   "source": [
    "## Floating-point operations\n",
    "\n",
    "*(this chapter is not important on first contact with Polynomial Numbers)*\n",
    "\n",
    "`PolyNum` class is ready to use different floating-point format of PN digits. See `PolyNumConf.py`. To have homogeneous type of float calculations, for example `mpf` from mpmath<sup>[ 1 ](#mpmath10)</sup>, use the same type for scalars using strings to initialize all scalars and all PNs. Recommended starting precision: mpmath -> mp.prec = 128  (38 dec. significant dig. of float), max_N=64 or 128 (PN significant digits number).\n",
    "\n",
    "<a name=\"mpmath10\">1</a>: Fredrik Johansson and others. [mpmath](http://mpmath.org/): a Python library for arbitrary-precision floating-point arithmetic (version  1.0.0), 2017. http://mpmath.org/."
   ]
  },
  {
   "cell_type": "code",
   "execution_count": 1,
   "metadata": {
    "code_folding": [],
    "hide_input": false
   },
   "outputs": [],
   "source": [
    "from PNlib import PolyNumConf\n",
    "PolyNumConf.max_N=80 # PN significant digits number (restart jupyter kernel on change conf.)\n",
    "PolyNumConf.FLOAT_TYPE = 'FLOAT-MPMATH-MPF'\n",
    "PolyNumConf.MPMATH_PREC = 150\n",
    "#PolyNumConf const can be changed efficiently before loading any other PNlib files"
   ]
  },
  {
   "cell_type": "code",
   "execution_count": 2,
   "metadata": {
    "code_folding": [],
    "hide_input": false,
    "scrolled": true
   },
   "outputs": [
    {
     "name": "stdout",
     "output_type": "stream",
     "text": [
      "mpf('0.099999999999999999999999999999999999999999999982')\n"
     ]
    }
   ],
   "source": [
    "%matplotlib inline\n",
    "from PNlib.digitPN import flt\n",
    "#example: h = flt('0.1') - Use it for all scalars.\n",
    "print(repr(flt('0.1')))                 # ...9982')"
   ]
  },
  {
   "cell_type": "code",
   "execution_count": 3,
   "metadata": {
    "code_folding": [],
    "hide_input": false
   },
   "outputs": [
    {
     "name": "stdout",
     "output_type": "stream",
     "text": [
      "mpf('0.0')\n"
     ]
    }
   ],
   "source": [
    "from PNlib.PolyNum import PolyNum\n",
    "print(repr(PolyNum().mantissa[0]))"
   ]
  },
  {
   "cell_type": "markdown",
   "metadata": {},
   "source": [
    "### Example"
   ]
  },
  {
   "cell_type": "code",
   "execution_count": 4,
   "metadata": {},
   "outputs": [],
   "source": [
    "# Z-transform live example of homogeneous type of float calculations (to set in PolyNumConf.py)\n",
    "h = flt('0.01') # sampling period\n",
    "p = 1/h * PolyNum('const:(~2~,-4~4~-4~4~...~)') #intiger can be mixed with mpf float\n",
    "E_0 = flt('10')\n",
    "E = E_0/2 * PolyNum('const:(~1~,2~2~2~2~...~)') # flt('10')/2, but not 10/2\n",
    "R, L, C = flt('20'), flt('2'), flt('1e-3')\n",
    "Z_C = 1 / (p*C)\n",
    "Z = R + p*L + Z_C\n",
    "U_C = E * Z_C / Z"
   ]
  },
  {
   "cell_type": "code",
   "execution_count": 5,
   "metadata": {
    "code_folding": [],
    "hide_input": false
   },
   "outputs": [
    {
     "data": {
      "image/png": "[encoded data removed]",
      "text/plain": [
       "<Figure size 432x288 with 1 Axes>"
      ]
     },
     "metadata": {},
     "output_type": "display_data"
    }
   ],
   "source": [
    "# plt.plot(E, 'r--',U_C, 'b-') \n",
    "import matplotlib.pyplot as plt\n",
    "plt.plot(E, 'r--',U_C, 'b-')\n",
    "plt.grid(b=True)\n",
    "plt.text(0.6,10.4,\"$ e(t) $\", fontsize=16, color='red')\n",
    "plt.text(21,12.2,\"$ u_C(t) $\", fontsize=16, color='blue')\n",
    "plt.show();"
   ]
  },
  {
   "cell_type": "code",
   "execution_count": 6,
   "metadata": {},
   "outputs": [
    {
     "name": "stdout",
     "output_type": "stream",
     "text": [
      "mpf('0.058823529411764705882352941176470588235294117724')\n"
     ]
    }
   ],
   "source": [
    "print(repr(U_C.mantissa[0])) #to see float type"
   ]
  },
  {
   "cell_type": "markdown",
   "metadata": {},
   "source": [
    "- - - -\n",
    "[<<<... 02. PN Laplace and Z transforms ...](02.PN Laplace and Z transforms.ipynb) _ | _ [... 04. PN generalized time domain functions ...>>>](04.PN generalized time domain functions.ipynb)"
   ]
  }
 ],
 "metadata": {
  "kernelspec": {
   "display_name": "Python [default]",
   "language": "python",
   "name": "python3"
  },
  "language_info": {
   "codemirror_mode": {
    "name": "ipython",
    "version": 3
   },
   "file_extension": ".py",
   "mimetype": "text/x-python",
   "name": "python",
   "nbconvert_exporter": "python",
   "pygments_lexer": "ipython3",
   "version": "3.6.5"
  },
  "latex_metadata": {
   "affiliation": "Rzeszow University of Technology",
   "author": "Andrzej Kubaszek",
   "title": "Polynomial Numbers"
  },
  "varInspector": {
   "cols": {
    "lenName": 16,
    "lenType": 16,
    "lenVar": 40
   },
   "kernels_config": {
    "python": {
     "delete_cmd_postfix": "",
     "delete_cmd_prefix": "del ",
     "library": "var_list.py",
     "varRefreshCmd": "print(var_dic_list())"
    },
    "r": {
     "delete_cmd_postfix": ") ",
     "delete_cmd_prefix": "rm(",
     "library": "var_list.r",
     "varRefreshCmd": "cat(var_dic_list()) "
    }
   },
   "types_to_exclude": [
    "module",
    "function",
    "builtin_function_or_method",
    "instance",
    "_Feature"
   ],
   "window_display": false
  }
 },
 "nbformat": 4,
 "nbformat_minor": 2
}
