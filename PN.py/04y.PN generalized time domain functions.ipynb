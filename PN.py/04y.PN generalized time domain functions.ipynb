{
 "cells": [
  {
   "cell_type": "code",
   "execution_count": 1,
   "metadata": {
    "code_folding": [],
    "hide_input": false
   },
   "outputs": [],
   "source": [
    "# place folder `PNlib` near to *.ipynb\n",
    "# --- \"04y.PN generalized time domain functions.ipynb\"  ---- XXy - plotly version ----\n",
    "from PNlib import PolyNumConf\n",
    "PolyNumConf.max_N=32 # PN significant digits number (restart jupyter kernel on change)"
   ]
  },
  {
   "cell_type": "code",
   "execution_count": 2,
   "metadata": {
    "code_folding": [],
    "hide_input": false
   },
   "outputs": [],
   "source": [
    "from PNlib.PolyNum import PolyNum"
   ]
  },
  {
   "cell_type": "markdown",
   "metadata": {},
   "source": [
    "# Discrete representations of generalized time domain functions\n",
    "\n",
    "## Laplace transform\n",
    "\n",
    "The functions of continuous time defined for $t \\geq 0$, can be expressed in **Mikusinski's operational calculus** in form of functions of **Heaviside's operator** $ p = \\cfrac{1}{\\int_0^t} $ where $X(p)$ denote $\\color{magenta}{\\text{Laplace transform}}$ formulas: \n",
    "\n",
    "$$\n",
    "\\{ x (t) \\} = \\color{magenta}{X(p)} \\color{brown}{ \\cdot p \\cdot \\{1\\} }\n",
    "$$\n",
    "\n",
    "$ \\{1\\} $ denotes function, with value $ 1 $ for all $ t \\geq 0 $.\n",
    "\n",
    "For example $ \\{ 200\\ sin(2t) \\} = \\color{magenta}{200\\ \\cfrac{2}{p^2 + 4}} \\color{brown}{  \\cdot  p \\cdot \\{1\\} }$.\n",
    "\n",
    "##  Z-transform\n",
    "\n",
    "Z-transform corresponds to $ \\{ x (t) \\} $ is determined by series of samples in discrete time $ t_k = k\\ h $, where $ k = 0, 1,\\dots$ and $ h $ is the sampling period:\n",
    "\n",
    "$$\n",
    "\\underline{x} = (^\\sim x_0\\!^\\sim, x_1\\!^\\sim x_2\\!^\\sim \\dots ^\\sim) = \\left.(x_0 \\,z^0 + x_1 \\,z^{-1} + x_2 \\,z^{-2} + \\dots)\\right|_{z\\,=\\,(^\\sim 1 ^\\sim 0 ^\\sim)}\\\\\n",
    "$$\n",
    "\n",
    "Replacing continuous time function $\\{1\\}$ by sequence of samples $\n",
    "(^\\sim 0.5^\\sim, 1^\\sim 1^\\sim1^\\sim \\dots^\\sim)\n",
    "$\n",
    "and replacing Heaviside operator $ p $ utilizing algorithm of numerical integration\n",
    "$$\n",
    "\\underline{p} = \\frac{2}{h} \\left.\\frac{1 - z^{-1}}{1 + z^{-1}}\\right|_{z = (^\\sim 1 ^\\sim 0 ^\\sim)} \n",
    "= \\frac{2}{h} \\frac{(^\\sim 1 ^\\sim , -1 ^\\sim)}{(^\\sim 1 ^\\sim , 1 ^\\sim)}\n",
    "= \\frac{1}{h}\\ (^\\sim 2^\\sim, -4^\\sim 4^\\sim -4^\\sim \\dots^\\sim) \\\\\n",
    "$$\n",
    "we obtain expression for approximate sequence of samples of function $\\{ x(t) \\}$:\n",
    "\n",
    "\n",
    "$$\n",
    "\\\\\n",
    "\\underline{x} = \\color{magenta}{X (\\underline{p})} \\color{brown}{  \\cdot \\underline{p} \\cdot (^\\sim0.5^\\sim, 1^\\sim1^\\sim1^\\sim \\dots ^\\sim) }\n",
    "$$"
   ]
  },
  {
   "cell_type": "markdown",
   "metadata": {},
   "source": [
    "This way we get discrete samples of abstract functions, like derivative of non-smooth function, like  \n",
    "$\n",
    "\\{x_a(t)\\} = \\{ \\cfrac{\\mathrm{d}}{\\mathrm{d}t} \\delta(t) \\} = \\color{brown}{ p \\cdot \\{1\\} \\cdot \\ } \\color{magenta}{p} \n",
    "$, \n",
    "where Laplace transform  $ \\color{magenta}{X(p) = p} $ or function containing negative delay, like  \n",
    "$\n",
    "\\{x_b(t)\\} = \\color{brown}{ p \\cdot \\{1\\} \\cdot \\ } \\color{magenta}{ \\cfrac{1}{p^2 + p + 4}\\ \\exp(-(-0.1)\\sqrt{p^2 +1}) } \n",
    "$ \n",
    "(see\n",
    "[Mikusinski's remarks about negative delay operator](https://pei.prz.edu.pl/~kubaszek/smacd06/JM_OperCalc.html))."
   ]
  },
  {
   "cell_type": "code",
   "execution_count": 3,
   "metadata": {},
   "outputs": [],
   "source": [
    "# Z-transform (live example):\n",
    "f_1111 = 0.5 * PolyNum('const:(~1~,2~2~2~2~...~)')\n",
    "p_tr = PolyNum('const:(~2~,-4~4~-4~4~...~)') # 2*(~1~-1~)/(~1~1~)"
   ]
  },
  {
   "cell_type": "markdown",
   "metadata": {},
   "source": [
    "### Digital samples of derivative of the step function:\n",
    "\n",
    "$\n",
    "\\{x_a(t)\\}  = \\{ \\cfrac{\\mathrm{d}}{\\mathrm{d}t} \\delta(t) \\} = \\color{brown}{ p \\cdot \\{1\\} \\cdot \\ } \\color{magenta}{p} \n",
    "$"
   ]
  },
  {
   "cell_type": "code",
   "execution_count": 4,
   "metadata": {},
   "outputs": [],
   "source": [
    "h_a = [0.4,0.8] # diffrent sampling periods for graphs\n",
    "x_a = []\n",
    "for h in h_a:  # diffrent sampling periods\n",
    "    p = 1/h * p_tr\n",
    "    x_a += [ p * f_1111 * p ]"
   ]
  },
  {
   "cell_type": "code",
   "execution_count": 5,
   "metadata": {
    "code_folding": [],
    "hide_input": false
   },
   "outputs": [],
   "source": [
    "# --- \"04y.PN generalized time domain functions.ipynb\"  ---- plotly version ----\n",
    "import plotly.plotly as py\n",
    "import plotly.graph_objs as go\n",
    "style = [{\"line\": {\"color\": \"rgba (255, 0, 0, 1)\", \"dash\": \"6px,3px\", \"width\": 0.8}, \n",
    "    \"marker\": {\"color\": \"#FF0000\", \"size\": 6.0, \"symbol\": \"dot\"}, \"mode\": \"lines+markers\"\n",
    "    },\n",
    "    {\"line\": {\"color\": \"rgba (0, 0, 255, 1)\", \"dash\": \"solid\", \"width\": 0.8}, \n",
    "    \"marker\": {\"color\": \"#0000FF\", \"size\": 6.0, \"symbol\": \"diamond\"}, \"mode\": \"lines+markers\"\n",
    "    }]"
   ]
  },
  {
   "cell_type": "code",
   "execution_count": 6,
   "metadata": {
    "code_folding": [],
    "hide_input": false,
    "scrolled": false
   },
   "outputs": [
    {
     "data": {
      "text/html": [
       "<iframe id=\"igraph\" scrolling=\"no\" style=\"border:none;\" seamless=\"seamless\" src=\"https://plot.ly/~andrzejQ/12.embed\" height=\"220px\" width=\"800px\"></iframe>"
      ],
      "text/plain": [
       "<plotly.tools.PlotlyDisplay object>"
      ]
     },
     "execution_count": 6,
     "metadata": {},
     "output_type": "execute_result"
    }
   ],
   "source": [
    "traces = []\n",
    "for n, h in enumerate(h_a):  # diffrent sampling periods\n",
    "    traces += [go.Scatter( y=list(x_a[n]), x0=0, dx=h, name='h='+str(h), **style[n] )]\n",
    "    \n",
    "layout = go.Layout(autosize=False, width=800, height=220,\n",
    "    margin=go.Margin(l=50, r=50, b=40, t=20, pad=4),\n",
    "    yaxis=dict(range=[-35, 35]), xaxis=dict(title='t')\n",
    ")\n",
    "fig = go.Figure(data=go.Data(traces), layout=layout)\n",
    "py.iplot(fig, filename='x_a__h')"
   ]
  },
  {
   "cell_type": "markdown",
   "metadata": {},
   "source": [
    "- - - -"
   ]
  },
  {
   "cell_type": "markdown",
   "metadata": {},
   "source": [
    "### Digital samples of signal containing negative delay operator:\n",
    "\n",
    "$\n",
    "\\{x_b(t)\\} = \\color{brown}{ p \\cdot \\{1\\} \\cdot \\ } \\color{magenta}{ \\cfrac{1}{p^2 + p + 4}\\ \\exp(-(-T_0)\\sqrt{p^2 +1}) } \n",
    "$\n",
    "\n",
    "$ \\color{magenta}{ T_0 = 0.04 } $"
   ]
  },
  {
   "cell_type": "code",
   "execution_count": 7,
   "metadata": {},
   "outputs": [],
   "source": [
    "h_b = [0.15,0.2] # diffrent sampling periods for graphs\n",
    "x_b = []\n",
    "T_0 = 0.04\n",
    "for h in h_b:\n",
    "    p = 1/h * p_tr\n",
    "    x_b += [ p * f_1111 * 1 / (p**2 + p + 4) * ( -(-T_0) * ( (p**2 +1).sqrt() ) ).exp() ]"
   ]
  },
  {
   "cell_type": "code",
   "execution_count": 8,
   "metadata": {
    "code_folding": [],
    "hide_input": false,
    "scrolled": true
   },
   "outputs": [
    {
     "data": {
      "text/html": [
       "<iframe id=\"igraph\" scrolling=\"no\" style=\"border:none;\" seamless=\"seamless\" src=\"https://plot.ly/~andrzejQ/14.embed\" height=\"300px\" width=\"800px\"></iframe>"
      ],
      "text/plain": [
       "<plotly.tools.PlotlyDisplay object>"
      ]
     },
     "execution_count": 8,
     "metadata": {},
     "output_type": "execute_result"
    }
   ],
   "source": [
    "traces = []\n",
    "for n, h in enumerate(h_b):  # diffrent sampling periods\n",
    "    traces += [go.Scatter( y=list(x_b[n]), x0=0, dx=h, name='h='+str(h), **style[n] )]\n",
    "    \n",
    "layout = go.Layout(autosize=False, width=800, height=300,\n",
    "    margin=go.Margin(l=50, r=50, b=40, t=20, pad=4),\n",
    "    yaxis=dict(range=[-0.5, 0.5]), xaxis=dict(title='t')\n",
    ")\n",
    "fig = go.Figure(data=go.Data(traces), layout=layout)\n",
    "py.iplot(fig, filename='x_b__h')"
   ]
  },
  {
   "cell_type": "markdown",
   "metadata": {},
   "source": [
    "Neutralizing negative delay operator we get regular function for $t \\geq 0$\n",
    " (see the last part of [Mikusinski's remarks about negative delay operator](https://pei.prz.edu.pl/~kubaszek/smacd06/JM_OperCalc.html)):"
   ]
  },
  {
   "cell_type": "markdown",
   "metadata": {},
   "source": [
    "$ \\{x_b(t)\\} = \\color{brown}{ p \\cdot \\{1\\} \\cdot \\ } \\color{magenta}{ \\cfrac{1}{p^2 + p + 4}\\ \\exp(-(-T_0)\\sqrt{p^2 +1}) \\cdot \\exp(-T_0\\, p)} $\n",
    "\n",
    "$ \\color{magenta}{ T_0 = 0.04 } $"
   ]
  },
  {
   "cell_type": "code",
   "execution_count": 9,
   "metadata": {},
   "outputs": [],
   "source": [
    "x_b0 = []\n",
    "for h in h_b:\n",
    "    p = 1/h * p_tr\n",
    "    x_b0 += [ p * f_1111 * 1 / (p**2 + p + 4) * ( -(-T_0) * ( (p**2 +1).sqrt() ) ).exp() * (-T_0*p).exp() ]"
   ]
  },
  {
   "cell_type": "code",
   "execution_count": 10,
   "metadata": {
    "code_folding": [],
    "hide_input": false,
    "scrolled": true
   },
   "outputs": [
    {
     "data": {
      "text/html": [
       "<iframe id=\"igraph\" scrolling=\"no\" style=\"border:none;\" seamless=\"seamless\" src=\"https://plot.ly/~andrzejQ/16.embed\" height=\"300px\" width=\"800px\"></iframe>"
      ],
      "text/plain": [
       "<plotly.tools.PlotlyDisplay object>"
      ]
     },
     "execution_count": 10,
     "metadata": {},
     "output_type": "execute_result"
    }
   ],
   "source": [
    "# plt.plot(x_b0) \n",
    "#plt.ylim((-0.5, 0.5))\n",
    "traces = []\n",
    "for n, h in enumerate(h_b):  # diffrent sampling periods\n",
    "    traces += [go.Scatter( y=list(x_b0[n]), x0=0, dx=h, name='h='+str(h), **style[n] )]\n",
    "    \n",
    "layout = go.Layout(autosize=False, width=800, height=300,\n",
    "    margin=go.Margin(l=50, r=50, b=40, t=20, pad=4),\n",
    "    yaxis=dict(range=[-0.5, 0.5]), xaxis=dict(title='t')\n",
    ")\n",
    "fig = go.Figure(data=go.Data(traces), layout=layout)\n",
    "py.iplot(fig, filename='x_b0__h')"
   ]
  },
  {
   "cell_type": "markdown",
   "metadata": {},
   "source": [
    "- - - -\n",
    "[<<<... 03. PN digits type ...](03.PN%20digits%20type.ipynb) _ | _ [... 05. PN - Black box ...>>>](05.PN%20-%20Black%20box.ipynb)"
   ]
  }
 ],
 "metadata": {
  "kernelspec": {
   "display_name": "Python [default]",
   "language": "python",
   "name": "python3"
  },
  "language_info": {
   "codemirror_mode": {
    "name": "ipython",
    "version": 3
   },
   "file_extension": ".py",
   "mimetype": "text/x-python",
   "name": "python",
   "nbconvert_exporter": "python",
   "pygments_lexer": "ipython3",
   "version": "3.6.5"
  },
  "latex_metadata": {
   "affiliation": "Rzeszow University of Technology",
   "author": "Andrzej Kubaszek",
   "title": "Polynomial Numbers"
  },
  "varInspector": {
   "cols": {
    "lenName": 16,
    "lenType": 16,
    "lenVar": 40
   },
   "kernels_config": {
    "python": {
     "delete_cmd_postfix": "",
     "delete_cmd_prefix": "del ",
     "library": "var_list.py",
     "varRefreshCmd": "print(var_dic_list())"
    },
    "r": {
     "delete_cmd_postfix": ") ",
     "delete_cmd_prefix": "rm(",
     "library": "var_list.r",
     "varRefreshCmd": "cat(var_dic_list()) "
    }
   },
   "types_to_exclude": [
    "module",
    "function",
    "builtin_function_or_method",
    "instance",
    "_Feature"
   ],
   "window_display": false
  }
 },
 "nbformat": 4,
 "nbformat_minor": 2
}
