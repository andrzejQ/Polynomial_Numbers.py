{
 "cells": [
  {
   "cell_type": "code",
   "execution_count": 5,
   "metadata": {
    "code_folding": [
     0
    ],
    "hide_input": false
   },
   "outputs": [],
   "source": [
    "# place folder `PNlib` near to *.ipynb, \n",
    "# or make symbolic / junction link (Windows: mklink /j PNlib \"c:\\dir\\PNlib\")\n",
    "\n",
    "# Codefolding extension is used here."
   ]
  },
  {
   "cell_type": "code",
   "execution_count": 6,
   "metadata": {
    "code_folding": [],
    "hide_input": false
   },
   "outputs": [],
   "source": [
    "from PNlib.PolyNum import PolyNum\n",
    "%matplotlib inline"
   ]
  },
  {
   "cell_type": "markdown",
   "metadata": {},
   "source": [
    "\n",
    "# Laplace and Z transform\n",
    "\n",
    "## Laplace transform\n",
    "\n",
    "The functions of continuous time defined for $t \\geq 0$, can be expressed in **Mikusinski's operational calculus** in form of functions of **Heaviside's operator** $ p = \\cfrac{1}{\\int_0^t} $ where $X(p)$ denote Laplace transform formulas: \n",
    "\n",
    "$$\n",
    "\\{ x (t) \\} = X(p) \\color{brown}{ \\cdot p \\cdot \\{1\\} }\n",
    "$$\n",
    "\n",
    "$ \\{1\\} $ denotes function, with value $ 1 $ for all $ t \\geq 0 $.\n",
    "\n",
    "For example $ \\{ 200\\ sin(t) \\} = 200\\ \\cfrac{2}{p^2 + 4} \\color{brown}{  \\cdot  p \\cdot \\{1\\} }$.\n",
    "\n",
    "##  Z-transform\n",
    "\n",
    "Z-transform corresponds to $ \\{ x (t) \\} $ is determined by series of samples in discrete time $ t_k = k\\ h $, where $ k = 0, 1,\\dots$ and $ h $ is the sampling period:\n",
    "\n",
    "$$\n",
    "\\underline{x} = (^\\sim x_0\\!^\\sim, x_1\\!^\\sim x_2\\!^\\sim \\dots ^\\sim) = \\left.(x_0 \\,z^0 + x_1 \\,z^{-1} + x_2 \\,z^{-2} + \\dots)\\right|_{z\\,=\\,(^\\sim 1 ^\\sim 0 ^\\sim)}\\\\\n",
    "$$\n",
    "\n",
    "Replacing continuous time function $\\{1\\}$ by sequence of samples $\n",
    "(^\\sim 0.5^\\sim, 1^\\sim 1^\\sim1^\\sim \\dots^\\sim)\n",
    "$\n",
    "and replacing Heaviside operator $ p $ utilizing algorithm of numerical integration\n",
    "$$\n",
    "\\underline{p} = \\frac{2}{h} \\left.\\frac{1 - z^{-1}}{1 + z^{-1}}\\right|_{z = (^\\sim 1 ^\\sim 0 ^\\sim)} \n",
    "= \\frac{2}{h} \\frac{(^\\sim 1 ^\\sim , -1 ^\\sim)}{(^\\sim 1 ^\\sim , 1 ^\\sim)}\n",
    "= \\frac{1}{h}\\ (^\\sim 2^\\sim, -4^\\sim 4^\\sim -4^\\sim \\dots^\\sim) \\\\\n",
    "$$\n",
    "we obtain expression for approximate sequence of samples of function $\\{ x(t) \\}$:\n",
    "\n",
    "\n",
    "$$\n",
    "\\\\\n",
    "\\underline{x} = X (\\underline{p}) \\color{brown}{  \\cdot \\underline{p} \\cdot (^\\sim0.5^\\sim, 1^\\sim1^\\sim1^\\sim \\dots ^\\sim) }\n",
    "$$"
   ]
  },
  {
   "cell_type": "markdown",
   "metadata": {},
   "source": [
    "Example:\n",
    "<div style=\"float: left; width: 30%;\">\n",
    "<img src=\"./img/eRLCuc_.png\">\n",
    "</div>\n",
    "$\n",
    "Z_C(p) = \\cfrac{1}{p C}, \\ \\  Z(p) = R + p L + Z_C(p), \\\\\n",
    "\\{i(t)\\} = \\cfrac{E_0\\, p^{-1} + L\\, i(0) - u_C(0)\\, p^{-1}}{Z(p)} \\color{brown}{  \\cdot p \\cdot \\{1\\} }\n",
    "$\n",
    "\n",
    "Assuming $i(0) = 0,  u_C(0) = 0 $\n",
    "\n",
    "$$\n",
    "\\{u_C(t)\\} = (\\ E_0\\, p^{-1}\\ Z_C(p)\\ /\\ Z(p)\\ ) \\color{brown}{  \\cdot p \\cdot \\{1\\} } = (\\ E_0 \\cdot \\{1\\}\\ )\\ Z_C(p)\\ /\\ Z(p)\n",
    "$$\n",
    "\n",
    "\n"
   ]
  },
  {
   "cell_type": "code",
   "execution_count": 7,
   "metadata": {},
   "outputs": [],
   "source": [
    "# Z-transform (live example):\n",
    "h = 0.01 # sampling period\n",
    "p = 1/h * PolyNum('const:(~2~,-4~4~-4~4~...~)')\n",
    "# p_trap(h) = (2/h)*(~1~-1~) / (~1~1~) = (1/h) * (~2~,-4~4~-4~4~...~)\n",
    "E_0 = 10  # const for t > 0\n",
    "E = E_0 * 0.5 * PolyNum('const:(~1~,2~2~2~2~...~)')\n",
    "R, L, C = 20, 2, 1e-3\n",
    "Z_C = 1/(p*C)\n",
    "Z = R + p*L + Z_C\n",
    "U_C = E * Z_C / Z"
   ]
  },
  {
   "cell_type": "code",
   "execution_count": 8,
   "metadata": {
    "code_folding": [
     0
    ],
    "hide_input": false
   },
   "outputs": [
    {
     "data": {
      "image/png": "[encoded data removed]",
      "text/plain": [
       "<matplotlib.figure.Figure at 0x97d2350>"
      ]
     },
     "metadata": {},
     "output_type": "display_data"
    }
   ],
   "source": [
    "# plt.plot(E, 'r--',U_C, 'b-') \n",
    "import matplotlib.pyplot as plt\n",
    "plt.plot(E, 'r--',U_C, 'b-')\n",
    "plt.text(0.6,10.4,\"$ e(t) $\", fontsize=16, color='red')\n",
    "plt.text(21,12.2,\"$ u_C(t) $\", fontsize=16, color='blue')\n",
    "plt.grid(b=True)\n",
    "plt.show()"
   ]
  }
 ],
 "metadata": {
  "kernelspec": {
   "display_name": "Python 3",
   "language": "python",
   "name": "python3"
  },
  "language_info": {
   "codemirror_mode": {
    "name": "ipython",
    "version": 3
   },
   "file_extension": ".py",
   "mimetype": "text/x-python",
   "name": "python",
   "nbconvert_exporter": "python",
   "pygments_lexer": "ipython3",
   "version": "3.6.4"
  },
  "varInspector": {
   "cols": {
    "lenName": 16,
    "lenType": 16,
    "lenVar": 40
   },
   "kernels_config": {
    "python": {
     "delete_cmd_postfix": "",
     "delete_cmd_prefix": "del ",
     "library": "var_list.py",
     "varRefreshCmd": "print(var_dic_list())"
    },
    "r": {
     "delete_cmd_postfix": ") ",
     "delete_cmd_prefix": "rm(",
     "library": "var_list.r",
     "varRefreshCmd": "cat(var_dic_list()) "
    }
   },
   "types_to_exclude": [
    "module",
    "function",
    "builtin_function_or_method",
    "instance",
    "_Feature"
   ],
   "window_display": false
  }
 },
 "nbformat": 4,
 "nbformat_minor": 2
}
