{
 "cells": [
  {
   "cell_type": "code",
   "execution_count": 1,
   "metadata": {
    "code_folding": []
   },
   "outputs": [],
   "source": [
    "# -*- coding: utf-8 -*-\n",
    "####  -*- coding: future_fstrings -*-   in py 2.7 for f-strings like in 3.6 (not tested here)"
   ]
  },
  {
   "cell_type": "code",
   "execution_count": 2,
   "metadata": {
    "code_folding": []
   },
   "outputs": [],
   "source": [
    "from PNlib.PolyNum import PolyNum\n",
    "# place folder `PNlib` near to *.ipynb"
   ]
  },
  {
   "cell_type": "markdown",
   "metadata": {},
   "source": [
    "As well PN operations as PN functions have easy computer implementation and are analogous to the floating-point arithmetic."
   ]
  },
  {
   "cell_type": "code",
   "execution_count": 3,
   "metadata": {},
   "outputs": [],
   "source": [
    "a = PolyNum('(~-3.2~,-5.0~2.1~)') #live demo\n",
    "b = PolyNum('(~-0.1~,1.0~)')"
   ]
  },
  {
   "cell_type": "code",
   "execution_count": 5,
   "metadata": {
    "code_folding": [],
    "scrolled": false
   },
   "outputs": [
    {
     "name": "stdout",
     "output_type": "stream",
     "text": [
      "\n",
      "________ R _________   ______________ PN ___________________\n",
      "\n",
      "  a =       5.3 2    |    a =           (~-3.2~,-5.0~2.1~)\n",
      "  b =         2.1    |    b =                (~-0.1~,1.0~)\n",
      "  * -------------    |    * ------------------------------\n",
      "            5 3 2    |                  (~-3.2~,-5.0~2.1~)\n",
      "        1 0 6 4      |            (~0.32~,0.5~-0.21~)\n",
      "  a * b =========    |    a * b ==========================\n",
      "        1 1.1 7 2    |            (~0.32~,-2.7~-5.21~2.1~)\n"
     ]
    }
   ],
   "source": [
    "# print() ___ R ___ PN ___  # Codefolding extension\n",
    "print()\n",
    "print('________ R _________','  ______________ PN ___________________')\n",
    "print()\n",
    "print('  a =       5.3 2    |   ', 'a =',                 f'{a:>28}')\n",
    "print('  b =         2.1    |   ', 'b =',                 f'{b:>28}')\n",
    "print('  * -------------    |   ','* ------------------------------')\n",
    "print('            5 3 2    |   ',                   f'{a*b[1]:>32}')\n",
    "print('        1 0 6 4      |   ',          f'{a*b[0]:>27}'         )\n",
    "print('  a * b =========    |   ','a * b ==========================')\n",
    "print('        1 1.1 7 2    |   ',                    f'{a * b:>32}')"
   ]
  },
  {
   "cell_type": "markdown",
   "metadata": {},
   "source": [
    "- - - -\n",
    "[<<<... 00. index ...](../index.ipynb) _ | _ [... 02. PN Laplace and Z transforms ...>>>](02.PN Laplace and Z transforms.ipynb)"
   ]
  }
 ],
 "metadata": {
  "kernelspec": {
   "display_name": "Python 3",
   "language": "python",
   "name": "python3"
  },
  "language_info": {
   "codemirror_mode": {
    "name": "ipython",
    "version": 3
   },
   "file_extension": ".py",
   "mimetype": "text/x-python",
   "name": "python",
   "nbconvert_exporter": "python",
   "pygments_lexer": "ipython3",
   "version": "3.7.0"
  },
  "latex_metadata": {
   "affiliation": "Rzeszow University of Technology",
   "author": "Andrzej Kubaszek",
   "title": "Polynomial Numbers"
  },
  "varInspector": {
   "cols": {
    "lenName": 16,
    "lenType": 16,
    "lenVar": 40
   },
   "kernels_config": {
    "python": {
     "delete_cmd_postfix": "",
     "delete_cmd_prefix": "del ",
     "library": "var_list.py",
     "varRefreshCmd": "print(var_dic_list())"
    },
    "r": {
     "delete_cmd_postfix": ") ",
     "delete_cmd_prefix": "rm(",
     "library": "var_list.r",
     "varRefreshCmd": "cat(var_dic_list()) "
    }
   },
   "types_to_exclude": [
    "module",
    "function",
    "builtin_function_or_method",
    "instance",
    "_Feature"
   ],
   "window_display": false
  }
 },
 "nbformat": 4,
 "nbformat_minor": 1
}
